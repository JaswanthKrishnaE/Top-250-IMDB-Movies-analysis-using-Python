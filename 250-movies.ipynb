{
 "cells": [
  {
   "cell_type": "code",
   "execution_count": 5,
   "id": "4cbdb101",
   "metadata": {
    "execution": {
     "iopub.execute_input": "2023-03-20T08:19:45.916977Z",
     "iopub.status.busy": "2023-03-20T08:19:45.916539Z",
     "iopub.status.idle": "2023-03-20T08:19:45.921629Z",
     "shell.execute_reply": "2023-03-20T08:19:45.920256Z"
    },
    "papermill": {
     "duration": 0.011887,
     "end_time": "2023-03-20T08:19:45.924343",
     "exception": false,
     "start_time": "2023-03-20T08:19:45.912456",
     "status": "completed"
    },
    "tags": []
   },
   "outputs": [],
   "source": [
    "import numpy as np\n",
    "import pandas as pd"
   ]
  },
  {
   "cell_type": "code",
   "execution_count": 11,
   "id": "93e487cb",
   "metadata": {
    "execution": {
     "iopub.execute_input": "2023-03-20T08:19:45.932270Z",
     "iopub.status.busy": "2023-03-20T08:19:45.931470Z",
     "iopub.status.idle": "2023-03-20T08:19:45.953746Z",
     "shell.execute_reply": "2023-03-20T08:19:45.952563Z"
    },
    "papermill": {
     "duration": 0.029825,
     "end_time": "2023-03-20T08:19:45.956871",
     "exception": false,
     "start_time": "2023-03-20T08:19:45.927046",
     "status": "completed"
    },
    "tags": []
   },
   "outputs": [
    {
     "data": {
      "text/plain": [
       "(250, 12)"
      ]
     },
     "execution_count": 11,
     "metadata": {},
     "output_type": "execute_result"
    }
   ],
   "source": [
    "filePath = \"Dataset\\IMDBTop250Movies.csv\"\n",
    "df = pd.read_csv(filePath,index_col = \"rank\")\n",
    "df.shape"
   ]
  },
  {
   "cell_type": "code",
   "execution_count": 12,
   "id": "14f4de95",
   "metadata": {},
   "outputs": [
    {
     "data": {
      "text/html": [
       "<div>\n",
       "<style scoped>\n",
       "    .dataframe tbody tr th:only-of-type {\n",
       "        vertical-align: middle;\n",
       "    }\n",
       "\n",
       "    .dataframe tbody tr th {\n",
       "        vertical-align: top;\n",
       "    }\n",
       "\n",
       "    .dataframe thead th {\n",
       "        text-align: right;\n",
       "    }\n",
       "</style>\n",
       "<table border=\"1\" class=\"dataframe\">\n",
       "  <thead>\n",
       "    <tr style=\"text-align: right;\">\n",
       "      <th></th>\n",
       "      <th>name</th>\n",
       "      <th>year</th>\n",
       "      <th>rating</th>\n",
       "      <th>genre</th>\n",
       "      <th>certificate</th>\n",
       "      <th>run_time</th>\n",
       "      <th>tagline</th>\n",
       "      <th>budget</th>\n",
       "      <th>box_office</th>\n",
       "      <th>casts</th>\n",
       "      <th>directors</th>\n",
       "      <th>writers</th>\n",
       "    </tr>\n",
       "    <tr>\n",
       "      <th>rank</th>\n",
       "      <th></th>\n",
       "      <th></th>\n",
       "      <th></th>\n",
       "      <th></th>\n",
       "      <th></th>\n",
       "      <th></th>\n",
       "      <th></th>\n",
       "      <th></th>\n",
       "      <th></th>\n",
       "      <th></th>\n",
       "      <th></th>\n",
       "      <th></th>\n",
       "    </tr>\n",
       "  </thead>\n",
       "  <tbody>\n",
       "    <tr>\n",
       "      <th>189</th>\n",
       "      <td>In the Name of the Father</td>\n",
       "      <td>1993</td>\n",
       "      <td>8.1</td>\n",
       "      <td>Biography,Crime,Drama</td>\n",
       "      <td>R</td>\n",
       "      <td>2h 13m</td>\n",
       "      <td>Falsely accused.  Wrongly imprisoned.  He foug...</td>\n",
       "      <td>Not Available</td>\n",
       "      <td>Not Available</td>\n",
       "      <td>Daniel Day-Lewis,Pete Postlethwaite,Alison Cro...</td>\n",
       "      <td>Jim Sheridan</td>\n",
       "      <td>Gerry Conlon,Terry George,Jim Sheridan</td>\n",
       "    </tr>\n",
       "    <tr>\n",
       "      <th>64</th>\n",
       "      <td>Witness for the Prosecution</td>\n",
       "      <td>1957</td>\n",
       "      <td>8.4</td>\n",
       "      <td>Crime,Drama,Mystery</td>\n",
       "      <td>Approved</td>\n",
       "      <td>1h 56m</td>\n",
       "      <td>The most electrifying entertainment of our time!</td>\n",
       "      <td>3000000</td>\n",
       "      <td>7693</td>\n",
       "      <td>Tyrone Power,Marlene Dietrich,Charles Laughton...</td>\n",
       "      <td>Billy Wilder</td>\n",
       "      <td>Agatha Christie,Billy Wilder,Harry Kurnitz</td>\n",
       "    </tr>\n",
       "    <tr>\n",
       "      <th>36</th>\n",
       "      <td>The Lion King</td>\n",
       "      <td>1994</td>\n",
       "      <td>8.5</td>\n",
       "      <td>Animation,Adventure,Drama</td>\n",
       "      <td>G</td>\n",
       "      <td>1h 28m</td>\n",
       "      <td>See it for the first time ever in 3D (2011 3D ...</td>\n",
       "      <td>45000000</td>\n",
       "      <td>968511805</td>\n",
       "      <td>Matthew Broderick,Jeremy Irons,James Earl Jone...</td>\n",
       "      <td>Roger Allers,Rob Minkoff</td>\n",
       "      <td>Irene Mecchi,Jonathan Roberts,Linda Woolverton</td>\n",
       "    </tr>\n",
       "  </tbody>\n",
       "</table>\n",
       "</div>"
      ],
      "text/plain": [
       "                             name  year  rating                      genre  \\\n",
       "rank                                                                         \n",
       "189     In the Name of the Father  1993     8.1      Biography,Crime,Drama   \n",
       "64    Witness for the Prosecution  1957     8.4        Crime,Drama,Mystery   \n",
       "36                  The Lion King  1994     8.5  Animation,Adventure,Drama   \n",
       "\n",
       "     certificate run_time                                            tagline  \\\n",
       "rank                                                                           \n",
       "189            R   2h 13m  Falsely accused.  Wrongly imprisoned.  He foug...   \n",
       "64      Approved   1h 56m   The most electrifying entertainment of our time!   \n",
       "36             G   1h 28m  See it for the first time ever in 3D (2011 3D ...   \n",
       "\n",
       "             budget     box_office  \\\n",
       "rank                                 \n",
       "189   Not Available  Not Available   \n",
       "64          3000000           7693   \n",
       "36         45000000      968511805   \n",
       "\n",
       "                                                  casts  \\\n",
       "rank                                                      \n",
       "189   Daniel Day-Lewis,Pete Postlethwaite,Alison Cro...   \n",
       "64    Tyrone Power,Marlene Dietrich,Charles Laughton...   \n",
       "36    Matthew Broderick,Jeremy Irons,James Earl Jone...   \n",
       "\n",
       "                     directors                                         writers  \n",
       "rank                                                                            \n",
       "189               Jim Sheridan          Gerry Conlon,Terry George,Jim Sheridan  \n",
       "64                Billy Wilder      Agatha Christie,Billy Wilder,Harry Kurnitz  \n",
       "36    Roger Allers,Rob Minkoff  Irene Mecchi,Jonathan Roberts,Linda Woolverton  "
      ]
     },
     "execution_count": 12,
     "metadata": {},
     "output_type": "execute_result"
    }
   ],
   "source": [
    "df.sample(3)\n"
   ]
  },
  {
   "cell_type": "code",
   "execution_count": null,
   "id": "df95ba06",
   "metadata": {},
   "outputs": [],
   "source": [
    "a"
   ]
  },
  {
   "cell_type": "code",
   "execution_count": null,
   "id": "44228568",
   "metadata": {},
   "outputs": [],
   "source": [
    "b"
   ]
  }
 ],
 "metadata": {
  "kernelspec": {
   "display_name": "Python 3",
   "language": "python",
   "name": "python3"
  },
  "language_info": {
   "codemirror_mode": {
    "name": "ipython",
    "version": 3
   },
   "file_extension": ".py",
   "mimetype": "text/x-python",
   "name": "python",
   "nbconvert_exporter": "python",
   "pygments_lexer": "ipython3",
   "version": "3.11.3"
  },
  "papermill": {
   "default_parameters": {},
   "duration": 11.195609,
   "end_time": "2023-03-20T08:19:46.720760",
   "environment_variables": {},
   "exception": null,
   "input_path": "__notebook__.ipynb",
   "output_path": "__notebook__.ipynb",
   "parameters": {},
   "start_time": "2023-03-20T08:19:35.525151",
   "version": "2.4.0"
  }
 },
 "nbformat": 4,
 "nbformat_minor": 5
}
