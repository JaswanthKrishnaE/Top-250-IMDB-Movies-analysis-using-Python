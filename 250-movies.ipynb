{
 "cells": [
  {
   "cell_type": "code",
   "execution_count": 1,
   "id": "1afc91ab",
   "metadata": {
    "_cell_guid": "b1076dfc-b9ad-4769-8c92-a6c4dae69d19",
    "_uuid": "8f2839f25d086af736a60e9eeb907d3b93b6e0e5",
    "execution": {
     "iopub.execute_input": "2023-03-20T08:19:45.886174Z",
     "iopub.status.busy": "2023-03-20T08:19:45.885461Z",
     "iopub.status.idle": "2023-03-20T08:19:45.904476Z",
     "shell.execute_reply": "2023-03-20T08:19:45.903506Z"
    },
    "papermill": {
     "duration": 0.028123,
     "end_time": "2023-03-20T08:19:45.908536",
     "exception": false,
     "start_time": "2023-03-20T08:19:45.880413",
     "status": "completed"
    },
    "tags": []
   },
   "outputs": [
    {
     "name": "stdout",
     "output_type": "stream",
     "text": [
      "/kaggle/input/imdb-top-250-movies-dataset/IMDB Top 250 Movies.csv\n"
     ]
    }
   ],
   "source": [
    "# This Python 3 environment comes with many helpful analytics libraries installed\n",
    "# It is defined by the kaggle/python Docker image: https://github.com/kaggle/docker-python\n",
    "# For example, here's several helpful packages to load\n",
    "\n",
    "import numpy as np # linear algebra\n",
    "import pandas as pd # data processing, CSV file I/O (e.g. pd.read_csv)\n",
    "\n",
    "# Input data files are available in the read-only \"../input/\" directory\n",
    "# For example, running this (by clicking run or pressing Shift+Enter) will list all files under the input directory\n",
    "\n",
    "import os\n",
    "for dirname, _, filenames in os.walk('/kaggle/input'):\n",
    "    for filename in filenames:\n",
    "        print(os.path.join(dirname, filename))\n",
    "\n",
    "# You can write up to 20GB to the current directory (/kaggle/working/) that gets preserved as output when you create a version using \"Save & Run All\" \n",
    "# You can also write temporary files to /kaggle/temp/, but they won't be saved outside of the current session"
   ]
  },
  {
   "cell_type": "code",
   "execution_count": 2,
   "id": "4cbdb101",
   "metadata": {
    "execution": {
     "iopub.execute_input": "2023-03-20T08:19:45.916977Z",
     "iopub.status.busy": "2023-03-20T08:19:45.916539Z",
     "iopub.status.idle": "2023-03-20T08:19:45.921629Z",
     "shell.execute_reply": "2023-03-20T08:19:45.920256Z"
    },
    "papermill": {
     "duration": 0.011887,
     "end_time": "2023-03-20T08:19:45.924343",
     "exception": false,
     "start_time": "2023-03-20T08:19:45.912456",
     "status": "completed"
    },
    "tags": []
   },
   "outputs": [],
   "source": [
    "import numpy as np # linear algebra\n",
    "import pandas as pd # data processing, CSV file I/O (e.g. pd.read_csv)"
   ]
  },
  {
   "cell_type": "code",
   "execution_count": 3,
   "id": "93e487cb",
   "metadata": {
    "execution": {
     "iopub.execute_input": "2023-03-20T08:19:45.932270Z",
     "iopub.status.busy": "2023-03-20T08:19:45.931470Z",
     "iopub.status.idle": "2023-03-20T08:19:45.953746Z",
     "shell.execute_reply": "2023-03-20T08:19:45.952563Z"
    },
    "papermill": {
     "duration": 0.029825,
     "end_time": "2023-03-20T08:19:45.956871",
     "exception": false,
     "start_time": "2023-03-20T08:19:45.927046",
     "status": "completed"
    },
    "tags": []
   },
   "outputs": [],
   "source": [
    "dataset = pd.read_csv(\"/kaggle/input/imdb-top-250-movies-dataset/IMDB Top 250 Movies.csv\")"
   ]
  },
  {
   "cell_type": "code",
   "execution_count": 4,
   "id": "ee4366de",
   "metadata": {
    "execution": {
     "iopub.execute_input": "2023-03-20T08:19:45.964825Z",
     "iopub.status.busy": "2023-03-20T08:19:45.963628Z",
     "iopub.status.idle": "2023-03-20T08:19:45.969853Z",
     "shell.execute_reply": "2023-03-20T08:19:45.968483Z"
    },
    "papermill": {
     "duration": 0.01292,
     "end_time": "2023-03-20T08:19:45.972555",
     "exception": false,
     "start_time": "2023-03-20T08:19:45.959635",
     "status": "completed"
    },
    "tags": []
   },
   "outputs": [],
   "source": [
    "sample = dataset.head(10)"
   ]
  },
  {
   "cell_type": "code",
   "execution_count": 5,
   "id": "9bc4bf5e",
   "metadata": {
    "execution": {
     "iopub.execute_input": "2023-03-20T08:19:45.980202Z",
     "iopub.status.busy": "2023-03-20T08:19:45.979420Z",
     "iopub.status.idle": "2023-03-20T08:19:45.992630Z",
     "shell.execute_reply": "2023-03-20T08:19:45.991195Z"
    },
    "papermill": {
     "duration": 0.019967,
     "end_time": "2023-03-20T08:19:45.995318",
     "exception": false,
     "start_time": "2023-03-20T08:19:45.975351",
     "status": "completed"
    },
    "tags": []
   },
   "outputs": [],
   "source": [
    "sample.to_csv(\"sample.csv\")"
   ]
  }
 ],
 "metadata": {
  "kernelspec": {
   "display_name": "Python 3",
   "language": "python",
   "name": "python3"
  },
  "language_info": {
   "codemirror_mode": {
    "name": "ipython",
    "version": 3
   },
   "file_extension": ".py",
   "mimetype": "text/x-python",
   "name": "python",
   "nbconvert_exporter": "python",
   "pygments_lexer": "ipython3",
   "version": "3.7.12"
  },
  "papermill": {
   "default_parameters": {},
   "duration": 11.195609,
   "end_time": "2023-03-20T08:19:46.720760",
   "environment_variables": {},
   "exception": null,
   "input_path": "__notebook__.ipynb",
   "output_path": "__notebook__.ipynb",
   "parameters": {},
   "start_time": "2023-03-20T08:19:35.525151",
   "version": "2.4.0"
  }
 },
 "nbformat": 4,
 "nbformat_minor": 5
}
